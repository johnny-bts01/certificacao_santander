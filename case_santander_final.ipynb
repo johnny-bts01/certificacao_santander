{
 "cells": [
  {
   "cell_type": "markdown",
   "metadata": {},
   "source": [
    "<font size = 5>Case Data Masters"
   ]
  },
  {
   "cell_type": "markdown",
   "metadata": {},
   "source": [
    "1 - Modelo preditivo classificatório (binário e probabilístico)\n",
    "\t\n",
    "\tEDA básico – Entendendo os dados\n",
    "\tPré Processamento e Feature Selection\n",
    "    Avaliação do Modelo\n",
    "    Case A\n",
    "    Case B\n",
    "    \n",
    "2 - Modelo Agrupamento\n",
    "\n",
    "    Elbow e Silhouette\n",
    "\tKmeans\n",
    "\tCase C\n"
   ]
  },
  {
   "cell_type": "markdown",
   "metadata": {},
   "source": [
    "Import de bibliotecas e datasets"
   ]
  },
  {
   "cell_type": "code",
   "execution_count": 222,
   "metadata": {},
   "outputs": [],
   "source": [
    "import pandas as pd\n",
    "import matplotlib.pyplot as plt\n",
    "import seaborn as sns\n",
    "import numpy as np\n",
    "from scipy import stats\n",
    "import random\n",
    "from sklearn.preprocessing import StandardScaler\n",
    "import warnings\n",
    "from fast_ml.utilities import display_all\n",
    "from fast_ml.feature_selection import get_duplicate_features\n",
    "from fast_ml.feature_selection import get_constant_features\n",
    "from sklearn.preprocessing import StandardScaler\n",
    "from sklearn.decomposition import PCA\n",
    "from sklearn.model_selection import train_test_split\n",
    "from sklearn.model_selection import KFold\n",
    "from sklearn.metrics import recall_score,roc_auc_score\n",
    "from sklearn.ensemble import GradientBoostingClassifier\n",
    "from imblearn.over_sampling import SMOTE\n",
    "from statsmodels.stats.outliers_influence import variance_inflation_factor\n",
    "from sklearn.ensemble import ExtraTreesClassifier\n",
    "import matplotlib.pyplot as plt\n",
    "import warnings\n",
    "warnings.filterwarnings(\"ignore\")\n",
    "random.seed(42)\n",
    "\n",
    "df_treino = pd.read_csv('train.csv').drop(['ID'],axis=1)\n",
    "df_teste = pd.read_csv('test.csv')\n",
    "ids = df_teste['ID']\n",
    "df_teste = df_teste.drop(['ID'],axis=1)"
   ]
  },
  {
   "cell_type": "markdown",
   "metadata": {},
   "source": [
    "EDA básico – Entendendo os dados"
   ]
  },
  {
   "cell_type": "code",
   "execution_count": null,
   "metadata": {},
   "outputs": [],
   "source": [
    "#EDA básico\n",
    "x_treino = df_treino.drop(['TARGET'],axis=1)\n",
    "y_treino = df_treino['TARGET']\n",
    "\n",
    "#df_treino.describe()\n"
   ]
  },
  {
   "cell_type": "code",
   "execution_count": 82,
   "metadata": {},
   "outputs": [
    {
     "name": "stdout",
     "output_type": "stream",
     "text": [
      "0    73012\n",
      "1     3008\n",
      "Name: TARGET, dtype: int64\n",
      "0    0.960431\n",
      "1    0.039569\n",
      "Name: TARGET, dtype: float64\n"
     ]
    },
    {
     "data": {
      "image/png": "[encoded data removed]",
      "text/plain": [
       "<Figure size 432x288 with 1 Axes>"
      ]
     },
     "metadata": {
      "needs_background": "light"
     },
     "output_type": "display_data"
    },
    {
     "data": {
      "image/png": "[encoded data removed]",
      "text/plain": [
       "<Figure size 432x288 with 1 Axes>"
      ]
     },
     "metadata": {
      "needs_background": "light"
     },
     "output_type": "display_data"
    },
    {
     "name": "stdout",
     "output_type": "stream",
     "text": [
      "Valores missing:  0\n",
      "Concluímos que estamos lidando com problema de desbalaceamento de classes, dataset com muitas features e possível multicolinearidade entre variáveis\n"
     ]
    }
   ],
   "source": [
    "\n",
    "#Relevancia da TARGET\n",
    "\n",
    "ax = sns.barplot([\"0\", \"1\"], [len(df_treino[df_treino['TARGET']==0]), len(df_treino[df_treino['TARGET']==1])])\n",
    "print(df_treino['TARGET'].value_counts())\n",
    "print(df_treino['TARGET'].value_counts(normalize=True))\n",
    "plt.show(ax)\n",
    "\n",
    "#Conferindo variáveis importantes - que mais explicam o resultado da TARGET\n",
    "\n",
    "model = ExtraTreesClassifier()\n",
    "model.fit(x_treino,y_treino)\n",
    "#print(model.feature_importances_)\n",
    "feat_importances = pd.Series(model.feature_importances_, index=x_treino.columns)\n",
    "feat_importances.nlargest(10).plot(kind='barh')\n",
    "plt.show()\n",
    "\n",
    "#Checa missing\n",
    "print(\"Valores missing: \",len(df_treino.columns[df_treino.isna().sum() > 0]))\n",
    "print(\"Concluímos que estamos lidando com problema de desbalaceamento de classes, dataset com muitas features e possível multicolinearidade entre variáveis\")"
   ]
  },
  {
   "cell_type": "code",
   "execution_count": 78,
   "metadata": {},
   "outputs": [
    {
     "data": {
      "image/png": "[encoded data removed]",
      "text/plain": [
       "<Figure size 479x432 with 1 Axes>"
      ]
     },
     "metadata": {
      "needs_background": "light"
     },
     "output_type": "display_data"
    }
   ],
   "source": [
    "sns.FacetGrid(df_treino, hue=\"TARGET\", size=6) \\\n",
    "   .map(plt.hist, \"var15\") \\\n",
    "   .add_legend()\n",
    "plt.title('var15 x target')\n",
    "plt.show()"
   ]
  },
  {
   "cell_type": "code",
   "execution_count": 228,
   "metadata": {},
   "outputs": [
    {
     "name": "stdout",
     "output_type": "stream",
     "text": [
      "['ind_var2', 'num_var29_0', 'ind_var29_0', 'ind_var29', 'ind_var18', 'ind_var26', 'ind_var25', 'ind_var32', 'ind_var34', 'ind_var27_0', 'delta_num_trasp_var33_out_1y3', 'ind_var37', 'ind_var39', 'delta_num_trasp_var33_in_1y3', 'delta_num_trasp_var17_out_1y3', 'num_var29', 'saldo_var2_ult1', 'num_var13_medio', 'delta_num_trasp_var17_in_1y3', 'num_var18', 'num_var26', 'num_var25', 'num_var32', 'num_var34', 'num_var37', 'num_var39', 'saldo_var29', 'delta_num_reemb_var33_1y3', 'saldo_medio_var13_medio_ult1', 'delta_num_reemb_var17_1y3', 'saldo_medio_var13_medio_hace3', 'ind_var13_medio', 'num_trasp_var33_out_hace3', 'imp_reemb_var33_hace3', 'imp_amort_var34_hace3', 'imp_amort_var18_hace3', 'saldo_var46', 'saldo_var41', 'saldo_var27', 'saldo_var28', 'num_var46', 'num_var46_0', 'num_var41', 'num_var27', 'num_var28', 'num_var28_0', 'num_var27_0', 'ind_var46', 'ind_var46_0', 'ind_var41', 'ind_var27', 'ind_var28', 'ind_var28_0', 'num_trasp_var17_out_hace3', 'imp_reemb_var13_hace3', 'delta_num_reemb_var13_1y3', 'imp_trasp_var33_out_hace3', 'num_var2_0_ult1', 'num_var2_ult1', 'num_reemb_var33_hace3', 'num_reemb_var13_hace3', 'imp_trasp_var17_out_hace3']\n",
      "Shape antes de remover variaveis duplicadas:  (76020, 370)\n",
      "Shape após a remoção de variaveis duplicadas:  (76020, 308)\n"
     ]
    }
   ],
   "source": [
    "#========Pré-processamento e Feature Engeenering========\n",
    "\n",
    "#Remoção de colunas duplicadas ou com índices iguais\n",
    "\n",
    "df_treino = df_treino.replace(-999999,2)\n",
    "df_teste = df_teste.replace(-999999,2)\n",
    "\n",
    "duplicate_features = get_duplicate_features(df_treino)\n",
    "duplicate_features_list = duplicate_features.query(\"Desc=='Duplicate Values'\")['feature2'].to_list()\n",
    "print(duplicate_features_list)\n",
    "\n",
    "print('Shape antes de remover variaveis duplicadas: ', df_treino.shape)\n",
    "df_treino.drop(columns = duplicate_features_list, inplace=True)\n",
    "df_teste.drop(columns = duplicate_features_list, inplace=True)\n",
    "print('Shape após a remoção de variaveis duplicadas: ', df_treino.shape)\n"
   ]
  },
  {
   "cell_type": "code",
   "execution_count": 229,
   "metadata": {},
   "outputs": [
    {
     "name": "stdout",
     "output_type": "stream",
     "text": [
      "['ind_var2_0']\n",
      "Shape antes de remover variaveis constantes:  (76020, 308)\n",
      "Shape após a remoção de variaveis constantes:  (76020, 307)\n"
     ]
    }
   ],
   "source": [
    "const_features = get_constant_features(df_treino)\n",
    "constant_features_list = const_features.query(\"Desc=='Constant'\")['Var'].to_list()\n",
    "print(constant_features_list)\n",
    "\n",
    "print('Shape antes de remover variaveis constantes: ', df_treino.shape)\n",
    "df_treino.drop(columns = constant_features_list, inplace=True)\n",
    "df_teste.drop(columns = constant_features_list, inplace=True)\n",
    "print('Shape após a remoção de variaveis constantes: ', df_treino.shape)"
   ]
  },
  {
   "cell_type": "code",
   "execution_count": 230,
   "metadata": {},
   "outputs": [
    {
     "name": "stdout",
     "output_type": "stream",
     "text": [
      "['num_reemb_var17_hace3', 'imp_trasp_var33_out_ult1', 'num_reemb_var33_ult1', 'num_trasp_var33_out_ult1', 'delta_imp_trasp_var33_out_1y3', 'imp_reemb_var17_hace3', 'imp_reemb_var33_ult1', 'saldo_medio_var29_hace3', 'delta_imp_reemb_var33_1y3', 'saldo_var34', 'saldo_var6', 'num_trasp_var17_in_hace3', 'num_var13_medio_0', 'ind_var34_0', 'num_var18_0', 'num_meses_var13_medio_ult3', 'imp_trasp_var17_in_hace3', 'imp_amort_var18_ult1', 'saldo_medio_var13_medio_hace2', 'saldo_medio_var13_medio_ult3', 'imp_amort_var34_ult1', 'delta_imp_amort_var34_1y3', 'num_var34_0', 'num_var6', 'ind_var6', 'ind_var18_0', 'saldo_var13_medio', 'saldo_var18', 'delta_imp_amort_var18_1y3', 'ind_var13_medio_0', 'saldo_medio_var29_ult3', 'imp_var7_emit_ult1', 'ind_var7_emit_ult1', 'imp_venta_var44_hace3', 'num_venta_var44_hace3', 'num_var7_emit_ult1', 'saldo_medio_var29_ult1', 'imp_trasp_var17_out_ult1', 'imp_trasp_var17_in_ult1', 'num_trasp_var17_in_ult1', 'delta_imp_trasp_var17_out_1y3', 'saldo_medio_var29_hace2', 'num_trasp_var17_out_ult1', 'num_trasp_var33_in_ult1', 'imp_trasp_var33_in_ult1', 'num_meses_var29_ult3', 'delta_imp_trasp_var17_in_1y3', 'num_trasp_var33_in_hace3', 'imp_trasp_var33_in_hace3', 'num_aport_var33_ult1', 'num_op_var40_hace3', 'imp_aport_var33_ult1', 'ind_var6_0', 'num_var6_0', 'delta_imp_trasp_var33_in_1y3', 'saldo_medio_var17_hace3', 'delta_num_aport_var33_1y3', 'imp_reemb_var17_ult1', 'num_reemb_var17_ult1', 'delta_imp_reemb_var17_1y3', 'num_aport_var17_hace3', 'imp_aport_var17_hace3', 'imp_aport_var33_hace3', 'num_aport_var33_hace3', 'saldo_medio_var33_hace3', 'delta_imp_aport_var33_1y3', 'imp_compra_var44_hace3', 'saldo_medio_var44_hace3', 'num_compra_var44_hace3', 'imp_op_var40_efect_ult1', 'imp_reemb_var13_ult1', 'num_op_var40_efect_ult1', 'delta_imp_reemb_var13_1y3', 'num_reemb_var13_ult1', 'saldo_medio_var33_hace2', 'num_aport_var17_ult1', 'num_venta_var44_ult1', 'imp_venta_var44_ult1', 'imp_aport_var17_ult1', 'num_op_var40_efect_ult3', 'delta_imp_venta_var44_1y3', 'delta_num_venta_var44_1y3', 'imp_op_var40_efect_ult3', 'saldo_medio_var33_ult1', 'num_var33', 'ind_var33', 'saldo_var33', 'saldo_medio_var33_ult3', 'num_meses_var33_ult3', 'num_var33_0', 'ind_var33_0', 'delta_num_aport_var17_1y3', 'delta_imp_aport_var17_1y3', 'ind_var32_0', 'num_var32_0', 'saldo_var32', 'imp_compra_var44_ult1', 'num_compra_var44_ult1', 'saldo_medio_var17_hace2', 'ind_var32_cte', 'imp_sal_var16_ult1', 'num_sal_var16_ult1', 'delta_num_compra_var44_1y3', 'saldo_medio_var44_hace2', 'delta_imp_compra_var44_1y3', 'num_op_var40_hace2', 'saldo_var17', 'num_var17', 'ind_var17', 'saldo_medio_var17_ult3', 'saldo_medio_var17_ult1', 'num_meses_var17_ult3', 'saldo_var44', 'num_var44', 'ind_var44', 'ind_var17_0', 'num_var17_0', 'saldo_medio_var44_ult1', 'saldo_medio_var44_ult3', 'ind_var44_0', 'num_meses_var44_ult3', 'num_var44_0', 'imp_var7_recib_ult1', 'saldo_var20', 'ind_var20', 'num_var20', 'num_var7_recib_ult1', 'ind_var7_recib_ult1', 'num_op_var40_ult1', 'imp_op_var40_ult1', 'num_op_var40_ult3', 'ind_var20_0', 'num_var20_0', 'ind_var31', 'saldo_var31', 'num_var31', 'ind_var40', 'num_var40', 'saldo_var40', 'ind_var1', 'num_var1', 'saldo_var1', 'imp_op_var40_comer_ult1', 'num_op_var40_comer_ult1', 'saldo_medio_var13_largo_hace3', 'ind_var19', 'num_var31_0', 'ind_var31_0', 'ind_var30_0', 'imp_op_var40_comer_ult3', 'num_op_var40_comer_ult3', 'num_aport_var13_ult1', 'imp_aport_var13_ult1', 'ind_var14', 'saldo_var14', 'num_var14', 'saldo_medio_var8_hace3', 'saldo_medio_var13_largo_hace2', 'saldo_medio_var13_largo_ult1', 'saldo_medio_var13_largo_ult3', 'num_meses_var13_largo_ult3', 'ind_var13_largo', 'num_var13_largo', 'saldo_var13_largo', 'num_var13_largo_0', 'ind_var13_largo_0', 'var21', 'ind_var40_0', 'num_var40_0', 'num_var1_0', 'ind_var1_0', 'num_op_var41_hace3', 'num_op_var39_hace3', 'saldo_medio_var12_hace3', 'saldo_medio_var13_corto_hace3', 'saldo_medio_var8_hace2', 'num_trasp_var11_ult1', 'imp_aport_var13_hace3', 'num_aport_var13_hace3', 'var3', 'num_var25_0', 'saldo_var25', 'ind_var25_0', 'ind_var14_0', 'num_var14_0', 'num_var26_0', 'ind_var26_0', 'saldo_var26', 'ind_var25_cte', 'delta_num_aport_var13_1y3', 'delta_imp_aport_var13_1y3', 'ind_var26_cte', 'num_var8', 'saldo_var8', 'ind_var8', 'saldo_medio_var8_ult1', 'saldo_medio_var8_ult3', 'num_meses_var8_ult3']\n",
      "Shape antes de remover variaveis quasi constantes (97%):  (76020, 307)\n",
      "Shape após a remoção de variaveis quasi constantes (97%):  (76020, 109)\n"
     ]
    }
   ],
   "source": [
    "quase_const_features = get_constant_features(df_treino, threshold=0.97,dropna=False)\n",
    "quase_constant_features_list = quase_const_features.query(\"Desc=='Quasi Constant'\")['Var'].to_list()\n",
    "print(quase_constant_features_list)\n",
    "\n",
    "print('Shape antes de remover variaveis quasi constantes (97%): ', df_treino.shape)\n",
    "df_treino.drop(columns = quase_constant_features_list, inplace=True)\n",
    "df_teste.drop(columns = quase_constant_features_list, inplace=True)\n",
    "print('Shape após a remoção de variaveis quasi constantes (97%): ', df_treino.shape)"
   ]
  },
  {
   "cell_type": "code",
   "execution_count": 232,
   "metadata": {},
   "outputs": [
    {
     "name": "stdout",
     "output_type": "stream",
     "text": [
      "Shape da base se treino após PCA:  (76020, 45)\n",
      "Shape da base de teste após PCA:  (75818, 45)\n"
     ]
    },
    {
     "data": {
      "image/png": "[encoded data removed]",
      "text/plain": [
       "<Figure size 432x288 with 1 Axes>"
      ]
     },
     "metadata": {
      "needs_background": "light"
     },
     "output_type": "display_data"
    }
   ],
   "source": [
    "\n",
    "\n",
    "x_treino = df_treino.drop(['TARGET'],axis=1)\n",
    "y_treino = df_treino['TARGET']\n",
    "\n",
    "#Aplicação do PCA com 98% de variancia explicada\n",
    "\n",
    "x_treino_norm = StandardScaler().fit_transform(x_treino)\n",
    "x_teste_norm = StandardScaler().fit_transform(df_teste)\n",
    "\n",
    "pca_teste = PCA().fit(x_treino_norm)\n",
    "cumsum = np.cumsum(pca_teste.explained_variance_ratio_)\n",
    "plt.plot(cumsum)\n",
    "d = np.argmax(cumsum >= 0.98) + 1\n",
    "d \n",
    "\n",
    "pca = PCA(n_components=d)\n",
    "\n",
    "pca_x_treino = pd.DataFrame(pca.fit_transform(x_treino_norm))\n",
    "pca_x_teste = pd.DataFrame(pca.transform(x_teste_norm))\n",
    "\n",
    "\n",
    "print('Shape da base se treino após PCA: ',pca_x_treino.shape)\n",
    "print('Shape da base de teste após PCA: ',pca_x_teste.shape)\n",
    "\n",
    "\n"
   ]
  },
  {
   "cell_type": "code",
   "execution_count": 233,
   "metadata": {},
   "outputs": [
    {
     "data": {
      "image/png": "[encoded data removed]",
      "text/plain": [
       "<Figure size 1152x360 with 1 Axes>"
      ]
     },
     "metadata": {
      "needs_background": "light"
     },
     "output_type": "display_data"
    }
   ],
   "source": [
    "pca_components = ['pca_{}'.format(str(i)) for i in range(d)]\n",
    "_ = pd.DataFrame(pca.explained_variance_ratio_, index=pca_components).plot.bar(figsize=(16,5))\n",
    "_ = plt.ylabel('explained variance ratio')\n",
    "_ = plt.xlabel('principal components')"
   ]
  },
  {
   "cell_type": "code",
   "execution_count": 234,
   "metadata": {},
   "outputs": [
    {
     "data": {
      "image/png": "[encoded data removed]",
      "text/plain": [
       "<Figure size 432x288 with 1 Axes>"
      ]
     },
     "metadata": {
      "needs_background": "light"
     },
     "output_type": "display_data"
    }
   ],
   "source": [
    "plt.bar(range(0,len(pca_teste.explained_variance_ratio_)), pca_teste.explained_variance_ratio_, alpha=0.5, align='center', label='Variancia individual')\n",
    "plt.step(range(0,len(cumsum)), cumsum, where='mid',label='Variancia acumulada')\n",
    "plt.ylabel('Explained variance ratio')\n",
    "plt.xlabel('Principal component index')\n",
    "plt.legend(loc='best')\n",
    "plt.axis([0, 45, 0, 1])\n",
    "plt.show()"
   ]
  },
  {
   "cell_type": "code",
   "execution_count": 116,
   "metadata": {},
   "outputs": [
    {
     "name": "stdout",
     "output_type": "stream",
     "text": [
      "FOLD nº: 1\n",
      "\n",
      "Antes do OverSampling, total de insatisfeitos: 2008\n",
      "Antes do OverSampling, total de satisfeitos:: 48672 \n",
      "\n",
      "Depois do OverSampling, shape do train_X: (97344, 45)\n",
      "Depois do OverSampling, shape do train_y: (97344,) \n",
      "\n",
      "Depois do OverSampling, total de insatisfeitos:  48672\n",
      "Depois do OverSampling, total de satisfeitos: : 48672 \n",
      "\n",
      "AUC: 0.8084080936729664\n",
      "FOLD nº: 2\n",
      "\n",
      "Antes do OverSampling, total de insatisfeitos: 2013\n",
      "Antes do OverSampling, total de satisfeitos:: 48667 \n",
      "\n",
      "Depois do OverSampling, shape do train_X: (97334, 45)\n",
      "Depois do OverSampling, shape do train_y: (97334,) \n",
      "\n",
      "Depois do OverSampling, total de insatisfeitos:  48667\n",
      "Depois do OverSampling, total de satisfeitos: : 48667 \n",
      "\n",
      "AUC: 0.8176119868184628\n",
      "FOLD nº: 3\n",
      "\n",
      "Antes do OverSampling, total de insatisfeitos: 1995\n",
      "Antes do OverSampling, total de satisfeitos:: 48685 \n",
      "\n",
      "Depois do OverSampling, shape do train_X: (97370, 45)\n",
      "Depois do OverSampling, shape do train_y: (97370,) \n",
      "\n",
      "Depois do OverSampling, total de insatisfeitos:  48685\n",
      "Depois do OverSampling, total de satisfeitos: : 48685 \n",
      "\n",
      "AUC: 0.8182641162077195\n"
     ]
    }
   ],
   "source": [
    "#Aplicação do Oversampling no público minoritário e avaliar a performance com 5 Folds\n",
    "#Testando a consistência dos resultados do modelo\n",
    "\n",
    "sm = SMOTE()\n",
    "\n",
    "scores = []\n",
    "\n",
    "cv = KFold(n_splits=3,random_state=42,shuffle=True)\n",
    "x = 1\n",
    "for train_fold_index, val_fold_index in cv.split(pca_x_treino, y_treino):\n",
    "\n",
    "    X_train_fold, y_train_fold = pca_x_treino.iloc[train_fold_index], y_treino[train_fold_index]\n",
    "    \n",
    "    X_val_fold, y_val_fold = pca_x_treino.iloc[val_fold_index], y_treino[val_fold_index]\n",
    "\n",
    "    # Aplicando SMOTE somente dos dados de treino para evitar data leak\n",
    "    X_train_fold_upsample, y_train_fold_upsample = sm.fit_resample(X_train_fold,y_train_fold)\n",
    "\n",
    "    print(\"FOLD nº: \" + str(x) + \"\\n\")\n",
    "    print(\"Antes do OverSampling, total de insatisfeitos: {}\".format(sum(y_train_fold == 1)))\n",
    "    print(\"Antes do OverSampling, total de satisfeitos:: {} \\n\".format(sum(y_train_fold == 0)))\n",
    "\n",
    "    print('Depois do OverSampling, shape do train_X: {}'.format(X_train_fold_upsample.shape))\n",
    "    print('Depois do OverSampling, shape do train_y: {} \\n'.format(y_train_fold_upsample.shape))\n",
    "\n",
    "    print(\"Depois do OverSampling, total de insatisfeitos:  {}\".format(sum(y_train_fold_upsample == 1)))\n",
    "    print(\"Depois do OverSampling, total de satisfeitos: : {} \\n\".format(sum(y_train_fold_upsample == 0)))\n",
    "\n",
    "    GB = GradientBoostingClassifier(n_estimators=100,n_iter_no_change=5, tol=0.01) #Para de fitar quando não houver mudanças de pelo menos 1% na últimas 5 iterações\n",
    "    GB.fit(X_train_fold_upsample,y_train_fold_upsample)\n",
    "    print(\"AUC: \" + str(roc_auc_score(y_val_fold, GB.predict_proba(X_val_fold)[:,1])))\n",
    "    x+=1\n",
    "\n"
   ]
  },
  {
   "cell_type": "code",
   "execution_count": null,
   "metadata": {},
   "outputs": [],
   "source": [
    "#fit de teste, sem loop\n",
    "\n",
    "#GB = GradientBoostingClassifier(n_estimators=100,n_iter_no_change=5, tol=0.01) #Para de fitar quando não houver mudanças de pelo menos 1% na últimas 5 iterações\n",
    "#GB.fit(X_train_fold_upsample,y_train_fold_upsample)"
   ]
  },
  {
   "cell_type": "code",
   "execution_count": 121,
   "metadata": {},
   "outputs": [
    {
     "name": "stdout",
     "output_type": "stream",
     "text": [
      "              precision    recall  f1-score   support\n",
      "\n",
      "           0       0.99      0.74      0.85     73012\n",
      "           1       0.11      0.76      0.19      3008\n",
      "\n",
      "    accuracy                           0.74     76020\n",
      "   macro avg       0.55      0.75      0.52     76020\n",
      "weighted avg       0.95      0.74      0.82     76020\n",
      "\n",
      "Melhor Threshold: 0.5071 \n"
     ]
    },
    {
     "data": {
      "image/png": "[encoded data removed]",
      "text/plain": [
       "<Figure size 432x288 with 1 Axes>"
      ]
     },
     "metadata": {
      "needs_background": "light"
     },
     "output_type": "display_data"
    },
    {
     "name": "stdout",
     "output_type": "stream",
     "text": [
      "[[54039 18973]\n",
      " [  720  2288]]\n"
     ]
    },
    {
     "data": {
      "image/png": "[encoded data removed]",
      "text/plain": [
       "<Figure size 432x288 with 2 Axes>"
      ]
     },
     "metadata": {
      "needs_background": "light"
     },
     "output_type": "display_data"
    }
   ],
   "source": [
    "#teste com threshold\n",
    "#uma leve alteração no threshold das probabilidades de predição eleva meu recall alguns pontos.\n",
    "from sklearn.metrics import classification_report\n",
    "\n",
    "y_pred = (GB.predict_proba(pca_x_treino)[:,1]>=0.489).astype(int)\n",
    "y_pred_proba = GB.predict_proba(pca_x_treino)[:,1]\n",
    "print(classification_report(y_treino,y_pred))\n",
    "\n",
    "#plotando a curva ROC\n",
    "\n",
    "import sklearn.metrics as metrics\n",
    "from sklearn.metrics import confusion_matrix\n",
    "import seaborn as sns\n",
    "\n",
    "preds = y_pred_proba\n",
    "preds\n",
    "\n",
    "fpr, tpr, threshold = metrics.roc_curve(y_treino, preds)\n",
    "roc_auc = metrics.auc(fpr, tpr)\n",
    "\n",
    "gmean = np.sqrt(tpr * (1 - fpr))\n",
    "index = np.argmax(gmean)\n",
    "thresholdOpt = round(threshold[index], ndigits = 4)\n",
    "gmeanOpt = round(gmean[index], ndigits = 4)\n",
    "\n",
    "print('Melhor Threshold: {} '.format(thresholdOpt))\n",
    "\n",
    "\n",
    "# method I: plt\n",
    "import matplotlib.pyplot as plt\n",
    "plt.title('ROC')\n",
    "plt.plot(fpr, tpr, 'b', label = 'AUC = %0.2f' % roc_auc)\n",
    "plt.legend(loc = 'lower right')\n",
    "plt.plot([0, 1], [0, 1],'r--')\n",
    "plt.xlim([0, 1])\n",
    "plt.ylim([0, 1])\n",
    "plt.ylabel('True Positive Rate')\n",
    "plt.xlabel('False Positive Rate')\n",
    "plt.show()\n",
    "\n",
    "cf_matrix = confusion_matrix(y_treino, y_pred)\n",
    "print(cf_matrix)\n",
    "\n",
    "#visualizando melhor\n",
    "\n",
    "group_names = ['True Neg','False Pos','False Neg','True Pos']\n",
    "group_counts = [\"{0:0.0f}\".format(value) for value in cf_matrix.flatten()]\n",
    "group_percentages = [\"{0:.2%}\".format(value) for value in cf_matrix.flatten()/np.sum(cf_matrix)]\n",
    "labels = [f\"{v1}\\n{v2}\\n{v3}\" for v1, v2, v3 in zip(group_names,group_counts,group_percentages)]\n",
    "labels = np.asarray(labels).reshape(2,2)\n",
    "ax = sns.heatmap(cf_matrix, annot=labels, fmt='', cmap='Blues')\n",
    "ax.set_title('Matriz de confusão\\n\\n');\n",
    "ax.set_xlabel('\\nValores Previstos ')\n",
    "ax.set_ylabel('Valores Reais ')\n",
    "## Ticket labels - List must be in alphabetical order\n",
    "ax.xaxis.set_ticklabels(['False','True'])\n",
    "ax.yaxis.set_ticklabels(['False','True'])\n",
    "## Display the visualization of the Confusion Matrix.\n",
    "plt.show()\n",
    "\n",
    "#A curva ROC é uma plotagem para visualizar a relação entre os verdadeiros positivos e os falsos positivos - queremos sempre um número alto de\n",
    "#verdadeiros positivos e baixos falso positivos. o AUC é a área abaixo dessa cuva, quando mais próximo de 1 melhor é a relação \n"
   ]
  },
  {
   "cell_type": "code",
   "execution_count": 122,
   "metadata": {},
   "outputs": [
    {
     "data": {
      "image/png": "[encoded data removed]",
      "text/plain": [
       "<Figure size 540x540 with 1 Axes>"
      ]
     },
     "metadata": {
      "needs_background": "light"
     },
     "output_type": "display_data"
    }
   ],
   "source": [
    "fig, ax = plt.subplots(figsize=(7.5, 7.5))\n",
    "ax.matshow(cf_matrix, cmap=plt.cm.Blues, alpha=0.3)\n",
    "for i in range(cf_matrix.shape[0]):\n",
    "    for j in range(cf_matrix.shape[1]):\n",
    "        ax.text(x=j, y=i,s=cf_matrix[i, j], va='center', ha='center', size='xx-large')\n",
    " \n",
    "plt.xlabel('Previsto', fontsize=18)\n",
    "plt.ylabel('Real', fontsize=18)\n",
    "plt.title('Confusion Matrix', fontsize=18)\n",
    "plt.show()"
   ]
  },
  {
   "cell_type": "code",
   "execution_count": 102,
   "metadata": {},
   "outputs": [],
   "source": [
    "#Aplicação do modelo na base teste\n",
    "\n",
    "y_teste_pred = GB.predict_proba(pca_x_teste)[:,1]\n",
    "y_teste_pred_df = pd.DataFrame(y_teste_pred)\n",
    "y_teste_pred_df.columns = ['Prob']\n",
    "df_teste['TARGET'] = y_teste_pred\n",
    "\n",
    "submission = pd.DataFrame({\"ID\":ids, \"TARGET\":y_teste_pred})\n",
    "submission.to_csv(\"submission.csv\", index=False)"
   ]
  },
  {
   "cell_type": "markdown",
   "metadata": {},
   "source": [
    "Resultado Kaggle\n",
    "\n",
    "![title](score_kaggle.png)"
   ]
  },
  {
   "cell_type": "code",
   "execution_count": 123,
   "metadata": {},
   "outputs": [
    {
     "name": "stdout",
     "output_type": "stream",
     "text": [
      "[0.38       0.42666667 0.47333333 0.52       0.56666667 0.61333333\n",
      " 0.66       0.70666667 0.75333333 0.8       ]\n"
     ]
    }
   ],
   "source": [
    "limites = np.linspace(38,80,10)\n",
    "limites_new = (limites/100)\n",
    "print(limites_new)\n"
   ]
  },
  {
   "cell_type": "code",
   "execution_count": 124,
   "metadata": {},
   "outputs": [
    {
     "name": "stdout",
     "output_type": "stream",
     "text": [
      "384\n",
      "502\n",
      "665\n",
      "843\n",
      "1039\n",
      "1241\n",
      "1409\n",
      "1525\n",
      "1716\n",
      "2001\n"
     ]
    },
    {
     "data": {
      "text/plain": [
       "<function matplotlib.pyplot.show(close=None, block=None)>"
      ]
     },
     "execution_count": 124,
     "metadata": {},
     "output_type": "execute_result"
    },
    {
     "data": {
      "image/png": "[encoded data removed]",
      "text/plain": [
       "<Figure size 432x288 with 1 Axes>"
      ]
     },
     "metadata": {
      "needs_background": "light"
     },
     "output_type": "display_data"
    }
   ],
   "source": [
    "\n",
    "#onde acontece a maximização do lucro?\n",
    "lucros = []\n",
    "fns = []\n",
    "for i in limites_new:\n",
    "    \n",
    "    y_pred_aux = (GB.predict_proba(pca_x_treino)[:,1]>=i).astype(int)\n",
    "    cf_matrix_aux = confusion_matrix(y_treino, y_pred_aux)\n",
    "    lucros.append((90*cf_matrix_aux[1,1]) - 10*cf_matrix_aux[0,1])\n",
    "    fns.append(cf_matrix_aux[1,0])\n",
    "    print(cf_matrix_aux[1,0])\n",
    "\n",
    "\n",
    "plt.plot(limites_new,lucros) \n",
    "# naming the x axis \n",
    "plt.xlabel('Threshold') \n",
    "# naming the y axis \n",
    "plt.ylabel('Lucro')\n",
    "\n",
    "\n",
    "def annot_max(x,y, ax=None):\n",
    "    xmax = x[np.argmax(y)]\n",
    "    ymax = max(y)\n",
    "    text= \"x={:.3f}, y={:.3f}\".format(xmax, ymax)\n",
    "    if not ax:\n",
    "        ax=plt.gca()\n",
    "    bbox_props = dict(boxstyle=\"square,pad=0.3\", fc=\"w\", ec=\"k\", lw=0.72)\n",
    "    arrowprops=dict(arrowstyle=\"->\",connectionstyle=\"angle,angleA=0,angleB=60\")\n",
    "    kw = dict(xycoords='data',textcoords=\"axes fraction\",\n",
    "              arrowprops=arrowprops, bbox=bbox_props, ha=\"right\", va=\"bottom\")\n",
    "    ax.annotate(text, xy=(xmax, ymax), xytext=(0.94,0.96), **kw)\n",
    "\n",
    "annot_max(limites_new,lucros)\n",
    "plt.show"
   ]
  },
  {
   "cell_type": "markdown",
   "metadata": {},
   "source": [
    "<b>Case A</b> - Ter uma maximização no lucro implica em ter uma precisão maior, o que implica em permitir falsos negativos o que parece ser prejudicial para o negócio.\n",
    "\n",
    "Assim, um modelo focado em recall, ou seja, maior assertividade em dizer que o real \"insatisfeito\" é predito como \"insatisfeito\" faz com que o benfício por cliente seja melhor estimado, porém gera uma taxa alta de falsos positivos com custo para o negócio. O modelo classificatório acima está numa balança entre ter um bom % de recall e ainda mantendo um lucro positivo, mesmo que baixo.\n",
    "\n",
    "Só é possível maximizar totalmente o lucro se assumir um risco de classificar como \"Satisfeito\", pessoas que estavam \"Insatisfeitas\"."
   ]
  },
  {
   "cell_type": "markdown",
   "metadata": {},
   "source": [
    "<b>Case B</b> - Atribuir uma nota de 1 a 5 para cada cliente da base de teste. <br>\n",
    "Utilizei as probabilidades previstas para definir faixas com as notas onde: <br><br>\n",
    "Menor 20% = Nota 5 <br>\n",
    "20% ~ 40% = Nota 4 <br>\n",
    "40% ~ 60% = Nota 3 <br>\n",
    "60% ~ 80% = Nota 2 <br>\n",
    "Maior 80% = Nota 1 <br>\n",
    "\n",
    "Dos casos com nota 1\n",
    "\n",
    "Assim, os clientes com nota 1 foram classificados com mais de 80% de probabilidade de realmente estarem insatisfeitos."
   ]
  },
  {
   "cell_type": "code",
   "execution_count": 21,
   "metadata": {},
   "outputs": [
    {
     "name": "stdout",
     "output_type": "stream",
     "text": [
      "[0.0, 0.08, 0.16, 0.24, 0.32, 0.4, 0.48, 0.5, 0.6666666666666666, 0.8333333333333333, 1.0]\n",
      "Nota  Classe\n",
      "1     0          8359\n",
      "      1          3251\n",
      "2     0         11148\n",
      "      1          5150\n",
      "3     0         11148\n",
      "      1         10276\n",
      "4     0         14053\n",
      "      1           906\n",
      "5     0         11527\n",
      "      1             0\n",
      "dtype: int64\n",
      "Lucro previsto para clientes com nota 1: R$ 209000\n"
     ]
    }
   ],
   "source": [
    "satisfeitos = np.linspace(0, 0.48, 7)\n",
    "insatisfeitos = np.linspace(0.5, 1, 4)\n",
    "bins = [*satisfeitos,*insatisfeitos]\n",
    "print(bins)\n",
    "labels = [5,4,3,2,1,5,4,3,2,1]\n",
    "\n",
    "y_teste_pred_df['Classe'] = np.select([(y_teste_pred_df['Prob'] < 0.489),(y_teste_pred_df['Prob'] >= 0.489)],['0','1'])\n",
    "y_teste_pred_df['Nota'] = pd.cut(y_teste_pred_df['Prob'], bins=bins,labels=labels,ordered=False)\n",
    "print(y_teste_pred_df.groupby([\"Nota\", \"Classe\"]).size())\n",
    "\n",
    "satisfeitos1 = len(y_teste_pred_df[(y_teste_pred_df['Nota'] == 1) & (y_teste_pred_df['Classe'] == '0')])\n",
    "insatisfeitos1 = len(y_teste_pred_df[(y_teste_pred_df['Nota'] == 1) & (y_teste_pred_df['Classe'] == '1')])\n",
    "print(\"Lucro previsto para clientes com nota 1: R$\", 90*insatisfeitos1 - 10*satisfeitos1)\n"
   ]
  },
  {
   "cell_type": "code",
   "execution_count": 38,
   "metadata": {},
   "outputs": [
    {
     "name": "stdout",
     "output_type": "stream",
     "text": [
      "[array([0. , 0.2, 0.4, 0.6, 0.8, 1. ])]\n"
     ]
    }
   ],
   "source": [
    "#2 forma de fazer o case B\n",
    "\n",
    "satisfeitos = np.linspace(0, 0.48, 7)\n",
    "insatisfeitos = np.linspace(0.5, 1, 4)\n",
    "todos = np.linspace(0.0,1.0,6)\n",
    "bins = [todos]\n",
    "print(bins)\n",
    "labels = [5,4,3,2,1]\n"
   ]
  },
  {
   "cell_type": "code",
   "execution_count": 127,
   "metadata": {},
   "outputs": [
    {
     "name": "stdout",
     "output_type": "stream",
     "text": [
      "0    73012\n",
      "1     3008\n",
      "Name: TARGET, dtype: int64\n"
     ]
    }
   ],
   "source": [
    "y_pred_treino = pca_x_treino\n",
    "y_pred_treino['Prob'] = y_pred_proba\n",
    "y_pred_treino['TARGET'] = y_treino"
   ]
  },
  {
   "cell_type": "code",
   "execution_count": 129,
   "metadata": {},
   "outputs": [
    {
     "name": "stdout",
     "output_type": "stream",
     "text": [
      "Nota\n",
      "5    23499\n",
      "4    23237\n",
      "3    17003\n",
      "2     7351\n",
      "1     4930\n",
      "dtype: int64\n",
      "Nota  TARGET\n",
      "5     0         23414\n",
      "      1            85\n",
      "4     0         22881\n",
      "      1           356\n",
      "3     0         16260\n",
      "      1           743\n",
      "2     0          6534\n",
      "      1           817\n",
      "1     0          3923\n",
      "      1          1007\n",
      "dtype: int64\n"
     ]
    }
   ],
   "source": [
    "#usando a base de treino\n",
    "\n",
    "y_pred_proba\n",
    "\n",
    "y_pred_treino['Classe'] = np.select([(y_pred_treino['Prob'] < 0.489),(y_pred_treino['Prob'] >= 0.489)],['0','1'])\n",
    "y_pred_treino['Nota'] = pd.cut(y_pred_treino['Prob'], bins=[0. , 0.2, 0.4, 0.6, 0.8, 1. ],labels=[5,4,3,2,1])\n",
    "print(y_pred_treino.groupby([\"Nota\"]).size())\n",
    "\n",
    "print(y_pred_treino.groupby([\"Nota\",\"TARGET\"]).size())"
   ]
  },
  {
   "cell_type": "code",
   "execution_count": 131,
   "metadata": {},
   "outputs": [
    {
     "name": "stdout",
     "output_type": "stream",
     "text": [
      "Nota\n",
      "5    26341\n",
      "4    22394\n",
      "3    16221\n",
      "2     6390\n",
      "1     4472\n",
      "dtype: int64\n"
     ]
    }
   ],
   "source": [
    "y_teste_pred_df['Classe'] = np.select([(y_teste_pred_df['Prob'] < 0.489),(y_teste_pred_df['Prob'] >= 0.489)],['0','1'])\n",
    "y_teste_pred_df['Nota'] = pd.cut(y_teste_pred_df['Prob'], bins=[0. , 0.2, 0.4, 0.6, 0.8, 1. ],labels=[5,4,3,2,1])\n",
    "print(y_teste_pred_df.groupby([\"Nota\"]).size())\n",
    "#print(\"Lucro previsto para clientes com nota 1: R$\", 90*insatisfeitos1 - 10*satisfeitos1)\n"
   ]
  },
  {
   "cell_type": "markdown",
   "metadata": {},
   "source": [
    "![title](caseb_1.png)"
   ]
  },
  {
   "cell_type": "markdown",
   "metadata": {},
   "source": [
    "<b>Case C</b> - Encontrar os 3 grupos naturais onde os maiores lucros esperados por cliente."
   ]
  },
  {
   "cell_type": "code",
   "execution_count": 185,
   "metadata": {},
   "outputs": [
    {
     "data": {
      "text/plain": [
       "(76020, 24)"
      ]
     },
     "execution_count": 185,
     "metadata": {},
     "output_type": "execute_result"
    },
    {
     "data": {
      "image/png": "[encoded data removed]",
      "text/plain": [
       "<Figure size 1152x360 with 1 Axes>"
      ]
     },
     "metadata": {
      "needs_background": "light"
     },
     "output_type": "display_data"
    }
   ],
   "source": [
    "#usando a base de treino\n",
    "\n",
    "#y_pred_treino\n",
    "from sklearn.preprocessing import MinMaxScaler\n",
    "#refazendo o pca com 90% da variancia\n",
    "x_treino_norm = MinMaxScaler().fit_transform(x_treino) #xtreino é a base de teste sem duplicidades ou correlações\n",
    "pca_teste = PCA().fit(x_treino_norm)\n",
    "cumsum = np.cumsum(pca_teste.explained_variance_ratio_)\n",
    "d = np.argmax(cumsum >= 0.99) + 1\n",
    "d \n",
    "\n",
    "pca = PCA(n_components=d)\n",
    "\n",
    "pca_x_treino_kmeans = pd.DataFrame(pca.fit_transform(x_treino_norm))\n",
    "\n",
    "\n",
    "pca_components = ['pca_{}'.format(str(i)) for i in range(d)]\n",
    "_ = pd.DataFrame(pca.explained_variance_ratio_, index=pca_components).plot.bar(figsize=(16,5))\n",
    "_ = plt.ylabel('explained variance ratio')\n",
    "_ = plt.xlabel('principal components')\n",
    "\n",
    "\n",
    "X_kmeans = pca_x_treino_kmeans\n",
    "\n",
    "pca_x_treino_kmeans.shape"
   ]
  },
  {
   "cell_type": "code",
   "execution_count": 188,
   "metadata": {},
   "outputs": [],
   "source": [
    "wcss = []\n",
    "for i in range(1, 20):\n",
    "    kmeans = KMeans(n_clusters = i, init = 'k-means++')\n",
    "    kmeans.fit(X_kmeans)\n",
    "    # inertia method returns wcss for that model\n",
    "    wcss.append(kmeans.inertia_)"
   ]
  },
  {
   "cell_type": "code",
   "execution_count": 189,
   "metadata": {},
   "outputs": [
    {
     "data": {
      "image/png": "[encoded data removed]",
      "text/plain": [
       "<Figure size 720x360 with 1 Axes>"
      ]
     },
     "metadata": {
      "needs_background": "light"
     },
     "output_type": "display_data"
    }
   ],
   "source": [
    "\n",
    "plt.figure(figsize=(10,5))\n",
    "sns.lineplot(range(1, 20), wcss,marker='o',color='red')\n",
    "plt.title('The Elbow Method')\n",
    "plt.xlabel('Number of clusters')\n",
    "plt.ylabel('WCSS')\n",
    "plt.show()"
   ]
  },
  {
   "cell_type": "code",
   "execution_count": 191,
   "metadata": {},
   "outputs": [
    {
     "data": {
      "text/plain": [
       "7"
      ]
     },
     "execution_count": 191,
     "metadata": {},
     "output_type": "execute_result"
    }
   ],
   "source": [
    "from kneed import KneeLocator\n",
    "kl = KneeLocator(range(1, 20), wcss, curve=\"convex\", direction=\"decreasing\")\n",
    "kl.elbow"
   ]
  },
  {
   "cell_type": "code",
   "execution_count": null,
   "metadata": {},
   "outputs": [],
   "source": [
    "from sklearn.metrics import silhouette_samples,silhouette_score\n",
    "for i in range(2,10):\n",
    "\n",
    "    kmeans = KMeans(n_clusters = i, init = 'k-means++',random_state=42)\n",
    "    y_kmeans = kmeans.fit_predict(X_kmeans)\n",
    "    \n",
    "    silhouette_avg = silhouette_score(X_kmeans,y_kmeans)\n",
    "    print(silhouette_avg)\n",
    "\n",
    "    #Calculate the silhouette score for each data\n",
    "    each_silhouette_score = silhouette_samples(X_kmeans,y_kmeans,metric=\"euclidean\")\n",
    "\n",
    "    colorlist =[\"tomato\",\"antiquewhite\",\"blueviolet\",\"cornflowerblue\",\"darkgreen\",\"seashell\",\"skyblue\",\"mediumseagreen\"]\n",
    "    fig =plt.figure()\n",
    "    ax = fig.add_subplot(1,1,1)\n",
    "    y_lower =10\n",
    "    for i in range(i):\n",
    "        ith_cluster_silhouette_values = each_silhouette_score[y_kmeans == i]\n",
    "        ith_cluster_silhouette_values.sort()\n",
    "        size_cluster_i = ith_cluster_silhouette_values.shape[0]\n",
    "        y_upper = y_lower + size_cluster_i\n",
    "        \n",
    "        color = colorlist[i]\n",
    "        ax.fill_betweenx(np.arange(y_lower,y_upper),0,ith_cluster_silhouette_values,facecolor=color,edgecolor=color,alpha=0.3)\n",
    "        \n",
    "        #label the silhouse plots with their cluster numbers at the middle\n",
    "        ax.text(-0.05,y_lower + 0.5 * size_cluster_i,str(i))\n",
    "        \n",
    "        #compute the new y_lower for next plot\n",
    "        y_lower = y_upper +10 \n",
    "        \n",
    "    #ax.set_title(\"Silhuoette plot\")\n",
    "    #ax.set_xlabel(\"silhouette score\")\n",
    "    #ax.set_ylabel(\"Cluster label\")\n",
    "        \n",
    "    #the vertical line for average silhouette score of all the values\n",
    "    #ax.axvline(x=silhouette_avg,color=\"red\",linestyle=\"--\")\n",
    "        \n",
    "    #ax.set_yticks([])\n",
    "    #ax.set_xticks([-0.2,0,0.2,0.4,0.6,0.8,1])"
   ]
  },
  {
   "cell_type": "code",
   "execution_count": 204,
   "metadata": {},
   "outputs": [],
   "source": [
    "    kmeans = KMeans(n_clusters = kl.elbow, init = 'k-means++',random_state=42)\n",
    "    y_kmeans = kmeans.fit_predict(X_kmeans)\n",
    "    "
   ]
  },
  {
   "cell_type": "code",
   "execution_count": 205,
   "metadata": {},
   "outputs": [],
   "source": [
    "kmeans_final = pd.DataFrame(X_kmeans)\n",
    "kmeans_final['TARGET'] = y_treino\n",
    "kmeans_final['GRUPOS'] = y_kmeans"
   ]
  },
  {
   "cell_type": "code",
   "execution_count": 219,
   "metadata": {},
   "outputs": [
    {
     "data": {
      "text/html": [
       "<div>\n",
       "<style scoped>\n",
       "    .dataframe tbody tr th:only-of-type {\n",
       "        vertical-align: middle;\n",
       "    }\n",
       "\n",
       "    .dataframe tbody tr th {\n",
       "        vertical-align: top;\n",
       "    }\n",
       "\n",
       "    .dataframe thead th {\n",
       "        text-align: right;\n",
       "    }\n",
       "</style>\n",
       "<table border=\"1\" class=\"dataframe\">\n",
       "  <thead>\n",
       "    <tr style=\"text-align: right;\">\n",
       "      <th>TARGET</th>\n",
       "      <th>0</th>\n",
       "      <th>1</th>\n",
       "      <th>Total</th>\n",
       "      <th>Lucro Máximo</th>\n",
       "      <th>Lucro Obtido</th>\n",
       "    </tr>\n",
       "    <tr>\n",
       "      <th>GRUPOS</th>\n",
       "      <th></th>\n",
       "      <th></th>\n",
       "      <th></th>\n",
       "      <th></th>\n",
       "      <th></th>\n",
       "    </tr>\n",
       "  </thead>\n",
       "  <tbody>\n",
       "    <tr>\n",
       "      <th>0</th>\n",
       "      <td>6250</td>\n",
       "      <td>614</td>\n",
       "      <td>6864</td>\n",
       "      <td>55260</td>\n",
       "      <td>-7240</td>\n",
       "    </tr>\n",
       "    <tr>\n",
       "      <th>2</th>\n",
       "      <td>14307</td>\n",
       "      <td>1318</td>\n",
       "      <td>15625</td>\n",
       "      <td>118620</td>\n",
       "      <td>-24450</td>\n",
       "    </tr>\n",
       "    <tr>\n",
       "      <th>6</th>\n",
       "      <td>2680</td>\n",
       "      <td>23</td>\n",
       "      <td>2703</td>\n",
       "      <td>2070</td>\n",
       "      <td>-24730</td>\n",
       "    </tr>\n",
       "    <tr>\n",
       "      <th>5</th>\n",
       "      <td>3054</td>\n",
       "      <td>24</td>\n",
       "      <td>3078</td>\n",
       "      <td>2160</td>\n",
       "      <td>-28380</td>\n",
       "    </tr>\n",
       "    <tr>\n",
       "      <th>3</th>\n",
       "      <td>4601</td>\n",
       "      <td>164</td>\n",
       "      <td>4765</td>\n",
       "      <td>14760</td>\n",
       "      <td>-31250</td>\n",
       "    </tr>\n",
       "    <tr>\n",
       "      <th>4</th>\n",
       "      <td>4086</td>\n",
       "      <td>75</td>\n",
       "      <td>4161</td>\n",
       "      <td>6750</td>\n",
       "      <td>-34110</td>\n",
       "    </tr>\n",
       "    <tr>\n",
       "      <th>1</th>\n",
       "      <td>38034</td>\n",
       "      <td>790</td>\n",
       "      <td>38824</td>\n",
       "      <td>71100</td>\n",
       "      <td>-309240</td>\n",
       "    </tr>\n",
       "  </tbody>\n",
       "</table>\n",
       "</div>"
      ],
      "text/plain": [
       "TARGET      0     1  Total  Lucro Máximo  Lucro Obtido\n",
       "GRUPOS                                                \n",
       "0        6250   614   6864         55260         -7240\n",
       "2       14307  1318  15625        118620        -24450\n",
       "6        2680    23   2703          2070        -24730\n",
       "5        3054    24   3078          2160        -28380\n",
       "3        4601   164   4765         14760        -31250\n",
       "4        4086    75   4161          6750        -34110\n",
       "1       38034   790  38824         71100       -309240"
      ]
     },
     "execution_count": 219,
     "metadata": {},
     "output_type": "execute_result"
    }
   ],
   "source": [
    "tabela = pd.crosstab(kmeans_final['GRUPOS'],kmeans_final['TARGET'])\n",
    "tabela['Total'] = tabela[0] + tabela[1]\n",
    "tabela['Lucro Máximo'] = (tabela[1]*90)\n",
    "tabela['Lucro Obtido'] = (tabela[1]*90) - (tabela[0]*10)\n",
    "tabela.sort_values(by='Lucro Obtido', ascending=False)"
   ]
  },
  {
   "cell_type": "code",
   "execution_count": 248,
   "metadata": {},
   "outputs": [
    {
     "data": {
      "image/png": "[encoded data removed]",
      "text/plain": [
       "<Figure size 432x288 with 1 Axes>"
      ]
     },
     "metadata": {
      "needs_background": "light"
     },
     "output_type": "display_data"
    }
   ],
   "source": [
    "#tentativa com GMM\n",
    "from sklearn.mixture import GaussianMixture\n",
    "n_components = np.arange(1, 40)\n",
    "models = [GaussianMixture(n, covariance_type='full', random_state=0).fit(X_kmeans) for n in n_components]\n",
    "plt.plot(n_components, [m.bic(X_kmeans) for m in models], label='BIC')\n",
    "plt.plot(n_components, [m.aic(X_kmeans) for m in models], label='AIC')\n",
    "plt.legend(loc='best')\n",
    "plt.xlabel('n_components');"
   ]
  },
  {
   "cell_type": "code",
   "execution_count": 242,
   "metadata": {},
   "outputs": [
    {
     "data": {
      "text/plain": [
       "GaussianMixture(n_components=4)"
      ]
     },
     "execution_count": 242,
     "metadata": {},
     "output_type": "execute_result"
    }
   ],
   "source": [
    "gmm = GaussianMixture(n_components=4)\n",
    "gmm.fit(X_kmeans)"
   ]
  },
  {
   "cell_type": "code",
   "execution_count": 243,
   "metadata": {},
   "outputs": [],
   "source": [
    "labels = gmm.predict(X_kmeans)"
   ]
  },
  {
   "cell_type": "code",
   "execution_count": 244,
   "metadata": {},
   "outputs": [
    {
     "data": {
      "text/plain": [
       "array([0, 2, 0, ..., 0, 0, 0], dtype=int64)"
      ]
     },
     "execution_count": 244,
     "metadata": {},
     "output_type": "execute_result"
    }
   ],
   "source": [
    "labels"
   ]
  },
  {
   "cell_type": "code",
   "execution_count": 245,
   "metadata": {},
   "outputs": [
    {
     "data": {
      "text/html": [
       "<div>\n",
       "<style scoped>\n",
       "    .dataframe tbody tr th:only-of-type {\n",
       "        vertical-align: middle;\n",
       "    }\n",
       "\n",
       "    .dataframe tbody tr th {\n",
       "        vertical-align: top;\n",
       "    }\n",
       "\n",
       "    .dataframe thead th {\n",
       "        text-align: right;\n",
       "    }\n",
       "</style>\n",
       "<table border=\"1\" class=\"dataframe\">\n",
       "  <thead>\n",
       "    <tr style=\"text-align: right;\">\n",
       "      <th>TARGET</th>\n",
       "      <th>0</th>\n",
       "      <th>1</th>\n",
       "      <th>Total</th>\n",
       "      <th>Lucro Máximo</th>\n",
       "      <th>Lucro Obtido</th>\n",
       "    </tr>\n",
       "    <tr>\n",
       "      <th>GRUPOS</th>\n",
       "      <th></th>\n",
       "      <th></th>\n",
       "      <th></th>\n",
       "      <th></th>\n",
       "      <th></th>\n",
       "    </tr>\n",
       "  </thead>\n",
       "  <tbody>\n",
       "    <tr>\n",
       "      <th>2</th>\n",
       "      <td>10050</td>\n",
       "      <td>1008</td>\n",
       "      <td>11058</td>\n",
       "      <td>90720</td>\n",
       "      <td>-9780</td>\n",
       "    </tr>\n",
       "    <tr>\n",
       "      <th>3</th>\n",
       "      <td>7968</td>\n",
       "      <td>521</td>\n",
       "      <td>8489</td>\n",
       "      <td>46890</td>\n",
       "      <td>-32790</td>\n",
       "    </tr>\n",
       "    <tr>\n",
       "      <th>0</th>\n",
       "      <td>21576</td>\n",
       "      <td>1382</td>\n",
       "      <td>22958</td>\n",
       "      <td>124380</td>\n",
       "      <td>-91380</td>\n",
       "    </tr>\n",
       "    <tr>\n",
       "      <th>1</th>\n",
       "      <td>33418</td>\n",
       "      <td>97</td>\n",
       "      <td>33515</td>\n",
       "      <td>8730</td>\n",
       "      <td>-325450</td>\n",
       "    </tr>\n",
       "  </tbody>\n",
       "</table>\n",
       "</div>"
      ],
      "text/plain": [
       "TARGET      0     1  Total  Lucro Máximo  Lucro Obtido\n",
       "GRUPOS                                                \n",
       "2       10050  1008  11058         90720         -9780\n",
       "3        7968   521   8489         46890        -32790\n",
       "0       21576  1382  22958        124380        -91380\n",
       "1       33418    97  33515          8730       -325450"
      ]
     },
     "execution_count": 245,
     "metadata": {},
     "output_type": "execute_result"
    }
   ],
   "source": [
    "kmeans_final_gmm = pd.DataFrame(X_kmeans)\n",
    "kmeans_final_gmm['TARGET'] = y_treino\n",
    "kmeans_final_gmm['GRUPOS'] = labels\n",
    "\n",
    "tabela = pd.crosstab(kmeans_final_gmm['GRUPOS'],kmeans_final_gmm['TARGET'])\n",
    "tabela['Total'] = tabela[0] + tabela[1]\n",
    "tabela['Lucro Máximo'] = (tabela[1]*90)\n",
    "tabela['Lucro Obtido'] = (tabela[1]*90) - (tabela[0]*10)\n",
    "tabela.sort_values(by='Lucro Obtido', ascending=False)"
   ]
  },
  {
   "cell_type": "code",
   "execution_count": null,
   "metadata": {},
   "outputs": [],
   "source": []
  }
 ],
 "metadata": {
  "interpreter": {
   "hash": "04960c5145ab47ab0779e31ce236b116804f1cc2d8ecd23cfaf2cb0145c4d509"
  },
  "kernelspec": {
   "display_name": "Python 3",
   "language": "python",
   "name": "python3"
  },
  "language_info": {
   "codemirror_mode": {
    "name": "ipython",
    "version": 3
   },
   "file_extension": ".py",
   "mimetype": "text/x-python",
   "name": "python",
   "nbconvert_exporter": "python",
   "pygments_lexer": "ipython3",
   "version": "3.8.8"
  }
 },
 "nbformat": 4,
 "nbformat_minor": 2
}
